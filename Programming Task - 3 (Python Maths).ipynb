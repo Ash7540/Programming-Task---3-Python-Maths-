{
 "cells": [
  {
   "cell_type": "code",
   "execution_count": null,
   "id": "ce8de7e6",
   "metadata": {},
   "outputs": [],
   "source": [
    "# Polar Coordinates\n",
    "import cmath\n",
    "n = input()\n",
    "try:\n",
    "    a = complex(n)\n",
    "except ValueError:\n",
    "    print(\"Invalid input format\")\n",
    "    exit(1)\n",
    "    \n",
    "print(abs(a))\n",
    "ar_a = cmath.phase(a)\n",
    "print(ar_a)"
   ]
  },
  {
   "cell_type": "code",
   "execution_count": null,
   "id": "8bf09ded",
   "metadata": {},
   "outputs": [],
   "source": [
    "# Find Angle MBC\n",
    "import math\n",
    "a = int(input())\n",
    "b = int(input())\n",
    "print(f'{math.degrees(math.atan(a / b)):1.0f}\\xb0')"
   ]
  },
  {
   "cell_type": "code",
   "execution_count": null,
   "id": "b84907c9",
   "metadata": {},
   "outputs": [],
   "source": [
    "# Triangle Quest 2\n",
    "for j in range(1, int(input())+1):\n",
    "    print((10**j//9)**2)"
   ]
  },
  {
   "cell_type": "code",
   "execution_count": null,
   "id": "4f83f4c1",
   "metadata": {},
   "outputs": [],
   "source": [
    "# Mod Divmod\n",
    "m = int(input())\n",
    "n = int(input())\n",
    "\n",
    "print(m // n)\n",
    "print(m % n)\n",
    "print (divmod(m, n))"
   ]
  },
  {
   "cell_type": "code",
   "execution_count": null,
   "id": "bf2f1b7a",
   "metadata": {},
   "outputs": [],
   "source": [
    "# Power - Mod Power\n",
    "m=int(input())\n",
    "n=int(input())\n",
    "o=int(input())\n",
    "print(pow(m,n))\n",
    "print(pow(m,n,o))"
   ]
  },
  {
   "cell_type": "code",
   "execution_count": null,
   "id": "5da80218",
   "metadata": {},
   "outputs": [],
   "source": [
    "# Integers Come In All Sizes\n",
    "m,n,o,p = [int(input()) for i in range(4)]\n",
    "print(pow(m,n)+pow(o,p))"
   ]
  },
  {
   "cell_type": "code",
   "execution_count": null,
   "id": "09ec272d",
   "metadata": {},
   "outputs": [],
   "source": [
    "# Triangle Quest\n",
    "for a in range(1,int(input())):\n",
    "    print(a*(10**a-1)//9)"
   ]
  }
 ],
 "metadata": {
  "kernelspec": {
   "display_name": "Python 3 (ipykernel)",
   "language": "python",
   "name": "python3"
  },
  "language_info": {
   "codemirror_mode": {
    "name": "ipython",
    "version": 3
   },
   "file_extension": ".py",
   "mimetype": "text/x-python",
   "name": "python",
   "nbconvert_exporter": "python",
   "pygments_lexer": "ipython3",
   "version": "3.9.12"
  }
 },
 "nbformat": 4,
 "nbformat_minor": 5
}
